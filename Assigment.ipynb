{
 "cells": [
  {
   "cell_type": "markdown",
   "metadata": {},
   "source": [
    "# Assignment A\n",
    "### Sum and Product of the digits of a number\n",
    "### Umang Mehta"
   ]
  },
  {
   "cell_type": "code",
   "execution_count": 21,
   "metadata": {},
   "outputs": [
    {
     "name": "stdout",
     "output_type": "stream",
     "text": [
      "Sum of digits is 5\n",
      "product of digits is 6\n"
     ]
    }
   ],
   "source": [
    "# defining functions for addition and product of digits\n",
    "def add(number):\n",
    "    n=number                      #Replicating so that orginal number does not change\n",
    "    sum=0   \n",
    "    while(n>0):\n",
    "        n1=n%10                   #Pulling out the remainder\n",
    "        sum=sum+n1                #storing it in sum, where sum has bee initialized as zero\n",
    "        n=n//10                   #dividing so for geetting the next digit, these all steps in while loop is for segregating digits and adding them\n",
    "    print(\"Sum of digits is\",sum)\n",
    "add(23)                           #calling the function\n",
    "\n",
    "def product(number):\n",
    "    n=number\n",
    "    p=1\n",
    "    while(n>0):\n",
    "        n1=n%10\n",
    "        p=p*n1\n",
    "        n=n//10\n",
    "    print(\"product of digits is\",p)\n",
    "product(23)"
   ]
  },
  {
   "cell_type": "markdown",
   "metadata": {},
   "source": [
    "# Assingment B\n",
    "\n",
    "### Factorial of number"
   ]
  },
  {
   "cell_type": "code",
   "execution_count": 23,
   "metadata": {},
   "outputs": [
    {
     "name": "stdout",
     "output_type": "stream",
     "text": [
      "Enter a number: 5\n",
      "The factorial of 5 is 120\n"
     ]
    }
   ],
   "source": [
    "num = int(input(\"Enter a number: \"))\n",
    "\n",
    "factorial = 1\n",
    "\n",
    "# check if the number is negative, positive or zero\n",
    "if num < 0:\n",
    "   print(\"Sorry, factorial does not exist for negative numbers\")\n",
    "elif num == 0:\n",
    "   print(\"The factorial of 0 is 1\")\n",
    "else:\n",
    "   for i in range(1,num + 1):\n",
    "       factorial = factorial*i\n",
    "   print(\"The factorial of\",num,\"is\",factorial)"
   ]
  },
  {
   "cell_type": "code",
   "execution_count": null,
   "metadata": {},
   "outputs": [],
   "source": []
  }
 ],
 "metadata": {
  "kernelspec": {
   "display_name": "Python 3",
   "language": "python",
   "name": "python3"
  },
  "language_info": {
   "codemirror_mode": {
    "name": "ipython",
    "version": 3
   },
   "file_extension": ".py",
   "mimetype": "text/x-python",
   "name": "python",
   "nbconvert_exporter": "python",
   "pygments_lexer": "ipython3",
   "version": "3.7.6"
  }
 },
 "nbformat": 4,
 "nbformat_minor": 4
}
